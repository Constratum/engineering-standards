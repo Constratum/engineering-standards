{
 "cells": [
  {
   "cell_type": "markdown",
   "metadata": {},
   "source": [
    "# AS_NZS_4600_2018 Method"
   ]
  },
  {
   "cell_type": "markdown",
   "metadata": {},
   "source": [
    "This method references the following standard:\n",
    "AS/NZS 4600 2018 for designing cold formed steel structures in New Zealand and Australia.\n",
    "\n",
    "Method developed 13 March 2024\n",
    "(c) Constratum Ltd\n",
    "\n",
    "Developer - Nima Shokrollahi"
   ]
  },
  {
   "cell_type": "code",
   "execution_count": 34,
   "metadata": {},
   "outputs": [],
   "source": [
    "# Install the required packages\n",
    "import numpy as np\n",
    "import pandas as pd\n"
   ]
  },
  {
   "cell_type": "code",
   "execution_count": 35,
   "metadata": {},
   "outputs": [],
   "source": [
    "# Install product data package\n",
    "from product_data import constratum_product_data_in\n",
    "\n",
    "section_database = constratum_product_data_in.get_df_from_file_name(\n",
    "    \"section_database.csv\"\n",
    ")"
   ]
  },
  {
   "cell_type": "code",
   "execution_count": 36,
   "metadata": {},
   "outputs": [
    {
     "data": {
      "text/html": [
       "<div>\n",
       "<style scoped>\n",
       "    .dataframe tbody tr th:only-of-type {\n",
       "        vertical-align: middle;\n",
       "    }\n",
       "\n",
       "    .dataframe tbody tr th {\n",
       "        vertical-align: top;\n",
       "    }\n",
       "\n",
       "    .dataframe thead th {\n",
       "        text-align: right;\n",
       "    }\n",
       "</style>\n",
       "<table border=\"1\" class=\"dataframe\">\n",
       "  <thead>\n",
       "    <tr style=\"text-align: right;\">\n",
       "      <th></th>\n",
       "      <th>Section Name</th>\n",
       "      <th>Lip type</th>\n",
       "      <th>Unnamed: 2</th>\n",
       "      <th>Fy (MPa)</th>\n",
       "      <th>G (MPa)</th>\n",
       "      <th>E (MPa)</th>\n",
       "      <th>Mass (kg/m)</th>\n",
       "      <th>Weight (kN/m)</th>\n",
       "      <th>Area (mm2)</th>\n",
       "      <th>Ixx (mm4)</th>\n",
       "      <th>...</th>\n",
       "      <th>xc (mm)</th>\n",
       "      <th>yc (mm)</th>\n",
       "      <th>x0_shear (mm)</th>\n",
       "      <th>y0_shear (mm)</th>\n",
       "      <th>a (mm)</th>\n",
       "      <th>b (mm)</th>\n",
       "      <th>t (mm)</th>\n",
       "      <th>c (mm)</th>\n",
       "      <th>Unnamed: 47</th>\n",
       "      <th>Unnamed: 48</th>\n",
       "    </tr>\n",
       "  </thead>\n",
       "  <tbody>\n",
       "    <tr>\n",
       "      <th>0</th>\n",
       "      <td>DONN DX1/DX2</td>\n",
       "      <td>nan</td>\n",
       "      <td>nan</td>\n",
       "      <td>270.0</td>\n",
       "      <td>78100</td>\n",
       "      <td>203000</td>\n",
       "      <td>NaN</td>\n",
       "      <td>NaN</td>\n",
       "      <td>33.6</td>\n",
       "      <td>6280.0</td>\n",
       "      <td>...</td>\n",
       "      <td>NaN</td>\n",
       "      <td>NaN</td>\n",
       "      <td>NaN</td>\n",
       "      <td>NaN</td>\n",
       "      <td>NaN</td>\n",
       "      <td>NaN</td>\n",
       "      <td>NaN</td>\n",
       "      <td>NaN</td>\n",
       "      <td>NaN</td>\n",
       "      <td>NaN</td>\n",
       "    </tr>\n",
       "    <tr>\n",
       "      <th>1</th>\n",
       "      <td>DONN DX1H/DX2H</td>\n",
       "      <td>nan</td>\n",
       "      <td>nan</td>\n",
       "      <td>270.0</td>\n",
       "      <td>78100</td>\n",
       "      <td>203000</td>\n",
       "      <td>NaN</td>\n",
       "      <td>NaN</td>\n",
       "      <td>43.5</td>\n",
       "      <td>8030.0</td>\n",
       "      <td>...</td>\n",
       "      <td>NaN</td>\n",
       "      <td>NaN</td>\n",
       "      <td>NaN</td>\n",
       "      <td>NaN</td>\n",
       "      <td>NaN</td>\n",
       "      <td>NaN</td>\n",
       "      <td>NaN</td>\n",
       "      <td>NaN</td>\n",
       "      <td>NaN</td>\n",
       "      <td>NaN</td>\n",
       "    </tr>\n",
       "    <tr>\n",
       "      <th>2</th>\n",
       "      <td>Rondo Key-lock P125</td>\n",
       "      <td>C shaped</td>\n",
       "      <td>nan</td>\n",
       "      <td>270.0</td>\n",
       "      <td>78100</td>\n",
       "      <td>203000</td>\n",
       "      <td>0.377</td>\n",
       "      <td>0.00370</td>\n",
       "      <td>47.1</td>\n",
       "      <td>3720.0</td>\n",
       "      <td>...</td>\n",
       "      <td>10.40</td>\n",
       "      <td>13.5</td>\n",
       "      <td>-10.4</td>\n",
       "      <td>13.5</td>\n",
       "      <td>20.8</td>\n",
       "      <td>26.35</td>\n",
       "      <td>0.55</td>\n",
       "      <td>0.0</td>\n",
       "      <td>NaN</td>\n",
       "      <td>NaN</td>\n",
       "    </tr>\n",
       "    <tr>\n",
       "      <th>3</th>\n",
       "      <td>Rondo Key-lock P127</td>\n",
       "      <td>C shaped</td>\n",
       "      <td>nan</td>\n",
       "      <td>270.0</td>\n",
       "      <td>78100</td>\n",
       "      <td>203000</td>\n",
       "      <td>0.512</td>\n",
       "      <td>0.00502</td>\n",
       "      <td>63.9</td>\n",
       "      <td>5120.0</td>\n",
       "      <td>...</td>\n",
       "      <td>10.40</td>\n",
       "      <td>13.9</td>\n",
       "      <td>-10.4</td>\n",
       "      <td>13.9</td>\n",
       "      <td>20.8</td>\n",
       "      <td>26.35</td>\n",
       "      <td>0.75</td>\n",
       "      <td>0.0</td>\n",
       "      <td>NaN</td>\n",
       "      <td>NaN</td>\n",
       "    </tr>\n",
       "    <tr>\n",
       "      <th>4</th>\n",
       "      <td>Rondo Key-lock P128</td>\n",
       "      <td>C shaped</td>\n",
       "      <td>nan</td>\n",
       "      <td>270.0</td>\n",
       "      <td>78100</td>\n",
       "      <td>203000</td>\n",
       "      <td>0.664</td>\n",
       "      <td>0.00651</td>\n",
       "      <td>83.0</td>\n",
       "      <td>14500.0</td>\n",
       "      <td>...</td>\n",
       "      <td>10.40</td>\n",
       "      <td>20.4</td>\n",
       "      <td>-10.4</td>\n",
       "      <td>20.4</td>\n",
       "      <td>20.8</td>\n",
       "      <td>38.65</td>\n",
       "      <td>75.00</td>\n",
       "      <td>0.0</td>\n",
       "      <td>NaN</td>\n",
       "      <td>NaN</td>\n",
       "    </tr>\n",
       "    <tr>\n",
       "      <th>...</th>\n",
       "      <td>...</td>\n",
       "      <td>...</td>\n",
       "      <td>...</td>\n",
       "      <td>...</td>\n",
       "      <td>...</td>\n",
       "      <td>...</td>\n",
       "      <td>...</td>\n",
       "      <td>...</td>\n",
       "      <td>...</td>\n",
       "      <td>...</td>\n",
       "      <td>...</td>\n",
       "      <td>...</td>\n",
       "      <td>...</td>\n",
       "      <td>...</td>\n",
       "      <td>...</td>\n",
       "      <td>...</td>\n",
       "      <td>...</td>\n",
       "      <td>...</td>\n",
       "      <td>...</td>\n",
       "      <td>...</td>\n",
       "      <td>...</td>\n",
       "    </tr>\n",
       "    <tr>\n",
       "      <th>91</th>\n",
       "      <td>S92055</td>\n",
       "      <td>Inner lip</td>\n",
       "      <td>Studco</td>\n",
       "      <td>450.0</td>\n",
       "      <td>78100</td>\n",
       "      <td>203000</td>\n",
       "      <td>0.756</td>\n",
       "      <td>0.00741</td>\n",
       "      <td>94.5</td>\n",
       "      <td>125000.0</td>\n",
       "      <td>...</td>\n",
       "      <td>9.97</td>\n",
       "      <td>46.0</td>\n",
       "      <td>-33.2</td>\n",
       "      <td>46.0</td>\n",
       "      <td>92.0</td>\n",
       "      <td>35.00</td>\n",
       "      <td>0.55</td>\n",
       "      <td>7.0</td>\n",
       "      <td>NaN</td>\n",
       "      <td>NaN</td>\n",
       "    </tr>\n",
       "    <tr>\n",
       "      <th>92</th>\n",
       "      <td>S92075</td>\n",
       "      <td>Inner lip</td>\n",
       "      <td>Studco</td>\n",
       "      <td>450.0</td>\n",
       "      <td>78100</td>\n",
       "      <td>203000</td>\n",
       "      <td>1.030</td>\n",
       "      <td>0.01010</td>\n",
       "      <td>128.0</td>\n",
       "      <td>169000.0</td>\n",
       "      <td>...</td>\n",
       "      <td>9.98</td>\n",
       "      <td>46.0</td>\n",
       "      <td>-33.0</td>\n",
       "      <td>46.0</td>\n",
       "      <td>92.0</td>\n",
       "      <td>35.00</td>\n",
       "      <td>0.75</td>\n",
       "      <td>7.0</td>\n",
       "      <td>NaN</td>\n",
       "      <td>NaN</td>\n",
       "    </tr>\n",
       "    <tr>\n",
       "      <th>93</th>\n",
       "      <td>S92115</td>\n",
       "      <td>Inner lip</td>\n",
       "      <td>Studco</td>\n",
       "      <td>450.0</td>\n",
       "      <td>78100</td>\n",
       "      <td>203000</td>\n",
       "      <td>1.550</td>\n",
       "      <td>0.01520</td>\n",
       "      <td>194.0</td>\n",
       "      <td>254000.0</td>\n",
       "      <td>...</td>\n",
       "      <td>10.10</td>\n",
       "      <td>46.2</td>\n",
       "      <td>-32.2</td>\n",
       "      <td>46.2</td>\n",
       "      <td>92.0</td>\n",
       "      <td>35.00</td>\n",
       "      <td>1.15</td>\n",
       "      <td>7.0</td>\n",
       "      <td>NaN</td>\n",
       "      <td>NaN</td>\n",
       "    </tr>\n",
       "    <tr>\n",
       "      <th>94</th>\n",
       "      <td>S15007</td>\n",
       "      <td>Inner lip</td>\n",
       "      <td>Studco</td>\n",
       "      <td>450.0</td>\n",
       "      <td>78100</td>\n",
       "      <td>203000</td>\n",
       "      <td>1.370</td>\n",
       "      <td>0.01350</td>\n",
       "      <td>172.0</td>\n",
       "      <td>535000.0</td>\n",
       "      <td>...</td>\n",
       "      <td>7.74</td>\n",
       "      <td>75.0</td>\n",
       "      <td>-26.3</td>\n",
       "      <td>75.0</td>\n",
       "      <td>150.0</td>\n",
       "      <td>35.00</td>\n",
       "      <td>0.75</td>\n",
       "      <td>7.0</td>\n",
       "      <td>NaN</td>\n",
       "      <td>NaN</td>\n",
       "    </tr>\n",
       "    <tr>\n",
       "      <th>95</th>\n",
       "      <td>S15012</td>\n",
       "      <td>Inner lip</td>\n",
       "      <td>Studco</td>\n",
       "      <td>450.0</td>\n",
       "      <td>78100</td>\n",
       "      <td>203000</td>\n",
       "      <td>2.090</td>\n",
       "      <td>0.02050</td>\n",
       "      <td>261.0</td>\n",
       "      <td>808000.0</td>\n",
       "      <td>...</td>\n",
       "      <td>7.90</td>\n",
       "      <td>75.2</td>\n",
       "      <td>-25.6</td>\n",
       "      <td>75.2</td>\n",
       "      <td>150.0</td>\n",
       "      <td>35.00</td>\n",
       "      <td>1.15</td>\n",
       "      <td>7.0</td>\n",
       "      <td>NaN</td>\n",
       "      <td>NaN</td>\n",
       "    </tr>\n",
       "  </tbody>\n",
       "</table>\n",
       "<p>96 rows × 49 columns</p>\n",
       "</div>"
      ],
      "text/plain": [
       "           Section Name   Lip type Unnamed: 2  Fy (MPa)  G (MPa)  E (MPa)  \\\n",
       "0          DONN DX1/DX2        nan        nan     270.0    78100   203000   \n",
       "1        DONN DX1H/DX2H        nan        nan     270.0    78100   203000   \n",
       "2   Rondo Key-lock P125   C shaped        nan     270.0    78100   203000   \n",
       "3   Rondo Key-lock P127   C shaped        nan     270.0    78100   203000   \n",
       "4   Rondo Key-lock P128   C shaped        nan     270.0    78100   203000   \n",
       "..                  ...        ...        ...       ...      ...      ...   \n",
       "91               S92055  Inner lip     Studco     450.0    78100   203000   \n",
       "92               S92075  Inner lip     Studco     450.0    78100   203000   \n",
       "93               S92115  Inner lip     Studco     450.0    78100   203000   \n",
       "94               S15007  Inner lip     Studco     450.0    78100   203000   \n",
       "95               S15012  Inner lip     Studco     450.0    78100   203000   \n",
       "\n",
       "    Mass (kg/m)  Weight (kN/m)  Area (mm2)  Ixx (mm4)  ...  xc (mm)  yc (mm)  \\\n",
       "0           NaN            NaN        33.6     6280.0  ...      NaN      NaN   \n",
       "1           NaN            NaN        43.5     8030.0  ...      NaN      NaN   \n",
       "2         0.377        0.00370        47.1     3720.0  ...    10.40     13.5   \n",
       "3         0.512        0.00502        63.9     5120.0  ...    10.40     13.9   \n",
       "4         0.664        0.00651        83.0    14500.0  ...    10.40     20.4   \n",
       "..          ...            ...         ...        ...  ...      ...      ...   \n",
       "91        0.756        0.00741        94.5   125000.0  ...     9.97     46.0   \n",
       "92        1.030        0.01010       128.0   169000.0  ...     9.98     46.0   \n",
       "93        1.550        0.01520       194.0   254000.0  ...    10.10     46.2   \n",
       "94        1.370        0.01350       172.0   535000.0  ...     7.74     75.0   \n",
       "95        2.090        0.02050       261.0   808000.0  ...     7.90     75.2   \n",
       "\n",
       "    x0_shear (mm)  y0_shear (mm)  a (mm)  b (mm)  t (mm)  c (mm)  Unnamed: 47  \\\n",
       "0             NaN            NaN     NaN     NaN     NaN     NaN          NaN   \n",
       "1             NaN            NaN     NaN     NaN     NaN     NaN          NaN   \n",
       "2           -10.4           13.5    20.8   26.35    0.55     0.0          NaN   \n",
       "3           -10.4           13.9    20.8   26.35    0.75     0.0          NaN   \n",
       "4           -10.4           20.4    20.8   38.65   75.00     0.0          NaN   \n",
       "..            ...            ...     ...     ...     ...     ...          ...   \n",
       "91          -33.2           46.0    92.0   35.00    0.55     7.0          NaN   \n",
       "92          -33.0           46.0    92.0   35.00    0.75     7.0          NaN   \n",
       "93          -32.2           46.2    92.0   35.00    1.15     7.0          NaN   \n",
       "94          -26.3           75.0   150.0   35.00    0.75     7.0          NaN   \n",
       "95          -25.6           75.2   150.0   35.00    1.15     7.0          NaN   \n",
       "\n",
       "    Unnamed: 48  \n",
       "0           NaN  \n",
       "1           NaN  \n",
       "2           NaN  \n",
       "3           NaN  \n",
       "4           NaN  \n",
       "..          ...  \n",
       "91          NaN  \n",
       "92          NaN  \n",
       "93          NaN  \n",
       "94          NaN  \n",
       "95          NaN  \n",
       "\n",
       "[96 rows x 49 columns]"
      ]
     },
     "execution_count": 36,
     "metadata": {},
     "output_type": "execute_result"
    }
   ],
   "source": [
    "section_database"
   ]
  },
  {
   "cell_type": "code",
   "execution_count": 37,
   "metadata": {},
   "outputs": [],
   "source": [
    "grid_name = \"Rondo Key-lock P125\""
   ]
  },
  {
   "cell_type": "markdown",
   "metadata": {},
   "source": [
    "## Section 5: Connection"
   ]
  },
  {
   "cell_type": "markdown",
   "metadata": {},
   "source": [
    "### Section 5.4: Screwed Connections"
   ]
  },
  {
   "cell_type": "markdown",
   "metadata": {},
   "source": [
    "5.4.1 General\n",
    "This section pertains to the use of screws in cold-formed steel structural members under static loading. The screws must be either thread-forming or thread-cutting, with a nominal diameter ranging from 3.0 mm to 7.0 mm, and can be with or without a self-drilling point.\n",
    "\n",
    "5.4.2.1 General (Screwed connections in shear)\n",
    "For screwed connections that will bear shear loads, the design must use the lowest shear capacity value derived from several specified clauses within the standards.\n",
    "\n",
    "5.4.2.2 Minimum spacing and edge distance\n",
    "When installing screws, an appropriate distance between their centers is required, enough to fit washers yet not exceeding three times the screw's diameter. The edge distance, from the center of a screw to the edge of the connected part, must not be less than 1.5 times the screw's diameter to ensure adequate shear capacity."
   ]
  },
  {
   "cell_type": "code",
   "execution_count": 38,
   "metadata": {},
   "outputs": [],
   "source": [
    "def calculate_tension_in_connected_part_5_4_2_3(d_t, s_f, f_u, a_n=None, single_screw=True):\n",
    "    \"\"\"\n",
    "    Calculate the nominal tensile capacity (N_t) of the net section of the connected part \n",
    "    based on the clauses given in the structural standard provided in the image.\n",
    "\n",
    "    Parameters:\n",
    "    φ (float): Capacity reduction factor of screwed connection subject to tension. = 0.65 for tension in the connected part - Table 1.6.3\n",
    "    d_t (float): Nominal screw diameter.\n",
    "    s_f (float): Spacing of screws perpendicular to the line of the force, or width of sheet, in the case of a single screw.\n",
    "    f_u (float): Ultimate strength of the material.\n",
    "    a_n (float, optional): Net area of the connected part. Required if multiple screws in the line parallel to the force.\n",
    "    single_screw (bool): Indicates whether it's for a single screw/single row of screws or multiple screws in line.\n",
    "\n",
    "    Returns:\n",
    "    float: The design tensile force (N_t') on the net section of the connected part.\n",
    "    \"\"\"\n",
    "    \n",
    "    # For a single screw or a single row of screws perpendicular to the force\n",
    "    if single_screw:\n",
    "        N_t = min((2.5 * d_t / s_f) * a_n * f_u, a_n * f_u)\n",
    "    else:\n",
    "        # For multiple screws in the line parallel to the force\n",
    "        if a_n is None:\n",
    "            raise ValueError(\"Net area (a_n) must be provided for multiple screws in line.\")\n",
    "        N_t = a_n * f_u\n",
    "\n",
    "    # The design tensile force (N_t') is then calculated\n",
    "    phi = 0.65\n",
    "    N_tension = phi * N_t\n",
    "    \n",
    "    return N_tension"
   ]
  },
  {
   "cell_type": "code",
   "execution_count": 39,
   "metadata": {},
   "outputs": [
    {
     "data": {
      "text/plain": [
       "48750.0"
      ]
     },
     "execution_count": 39,
     "metadata": {},
     "output_type": "execute_result"
    }
   ],
   "source": [
    "#Example usage of the function:\n",
    "#Assuming the parameters are known, for a single screw case:\n",
    "d_t = 5\n",
    "s_f = 50\n",
    "f_u = 300\n",
    "N_prime = calculate_tension_in_connected_part_5_4_2_3(d_t, s_f, f_u, 1000, True)\n",
    "N_prime"
   ]
  },
  {
   "cell_type": "code",
   "execution_count": 40,
   "metadata": {},
   "outputs": [],
   "source": [
    "def get_bearing_factor_table_5_4_2_4(d_f, t1):\n",
    "    \"\"\"\n",
    "    Determine the bearing factor (C) based on Table 5.4.2.4\n",
    "\n",
    "    Parameters:\n",
    "    d_t (float): Nominal screw diameter.\n",
    "    t1 (float): Thickness of the sheet in contact with the screw head.\n",
    "\n",
    "    Returns:\n",
    "    float: The bearing factor (C).\n",
    "    \"\"\"\n",
    "    # Ratio of fastener diameter to member thickness, d/t\n",
    "    ratio = d_f / t1\n",
    "\n",
    "    # Determine C based on the ratio\n",
    "    if ratio < 6:\n",
    "        C = 2.7\n",
    "    elif ratio <= 13:\n",
    "        C = 3.3 - 0.1 * ratio\n",
    "    else:\n",
    "        C = 2.0\n",
    "\n",
    "    return C\n",
    "\n",
    "def calculate_nominal_bearing_capacity_5_4_2_4(t2, t1, d_f, f_u1, f_u2):\n",
    "    \"\"\"\n",
    "    Calculate the nominal bearing capacity (V_b) based on the provided parameters,\n",
    "    taking into account the appropriate conditions from the standard.\n",
    "\n",
    "    Parameters:\n",
    "    t2 (float): Thickness of the sheet not in contact with the screw head.\n",
    "    t1 (float): Thickness of the sheet in contact with the screw head.\n",
    "    d_t (float): Nominal screw diameter.\n",
    "    f_u1 (float): Tensile strength of the sheet in contact with the screw head.\n",
    "    f_u2 (float): Tensile strength of the sheet not in contact with the screw head.\n",
    "\n",
    "    Returns:\n",
    "    float: The nominal bearing capacity (V_b) of the connected part.\n",
    "    \"\"\"\n",
    "    # Get the bearing factor (C) from Table 5.4.2.4\n",
    "    C = get_bearing_factor_table_5_4_2_4(d_f, t1)\n",
    "\n",
    "    # Apply the condition for t2/t1 ≤ 1.0\n",
    "    if t2/t1 <= 1.0:\n",
    "        v_b = min(\n",
    "            4.2 * (t2**1.5) * (d_f ** 0.5) * f_u2,\n",
    "            C * t1 * d_f * f_u1,\n",
    "            C * t2 * d_f * f_u2\n",
    "        )\n",
    "    # Apply the condition for t2/t1 > 1.0\n",
    "    if t2/t1 >= 2.5:\n",
    "        v_b = (\n",
    "            C * t1 * d_f * f_u1,\n",
    "            C * t2 * d_f * f_u2\n",
    "        )\n",
    "    if 1.0 < t2/t1 < 2.5:\n",
    "        v_b_1 = [\n",
    "            4.2 * (t2**1.5) * (d_f ** 0.5) * f_u2,\n",
    "            C * t1 * d_f * f_u1,\n",
    "            C * t2 * d_f * f_u2\n",
    "        ]\n",
    "        v_b_2 = [\n",
    "            C * t1 * d_f * f_u1,\n",
    "            C * t2 * d_f * f_u2\n",
    "        ]\n",
    "        V_b =v_b_1 + v_b_2 / 2\n",
    "        \n",
    "    # V_b shall be taken as the smallest of the calculated options\n",
    "\n",
    "    return V_b\n"
   ]
  },
  {
   "cell_type": "code",
   "execution_count": 41,
   "metadata": {},
   "outputs": [
    {
     "data": {
      "text/plain": [
       "9450.0"
      ]
     },
     "execution_count": 41,
     "metadata": {},
     "output_type": "execute_result"
    }
   ],
   "source": [
    "# Example parameters:\n",
    "d_f = 10  # mm, nominal screw diameter\n",
    "t1 = 5    # mm, thickness of the sheet in contact with the screw head\n",
    "t2 = 3    # mm, thickness of the sheet not in contact with the screw head\n",
    "f_u1 = 450  # MPa, tensile strength of the sheet in contact with the screw head\n",
    "f_u2 = 350  # MPa, tensile strength of the sheet not in contact with the screw head\n",
    "\n",
    "# Calculate the nominal bearing capacity (V_b)\n",
    "V_b = calculate_nominal_bearing_capacity(t2, t1, d_f, f_u1, f_u2)\n",
    "V_b"
   ]
  },
  {
   "cell_type": "markdown",
   "metadata": {},
   "source": [
    "## Section 5.4.3: Screwed connections in tension"
   ]
  },
  {
   "cell_type": "markdown",
   "metadata": {},
   "source": [
    "### Section 5.4.3.2: Pull-out and pull-over (pull through)"
   ]
  },
  {
   "cell_type": "code",
   "execution_count": 42,
   "metadata": {},
   "outputs": [],
   "source": [
    "def calculate_effective_pull_over_diameter_5_4_3_2(d_h, t_w, d_w, t1, washer_type):\n",
    "    \"\"\"\n",
    "    Calculate the effective pull-over diameter (d_p) based on clause 5.4.3.2(4) of the standard.\n",
    "\n",
    "    Parameters:\n",
    "    d_h (float): Screw head diameter or hex washer head integral washer diameter.\n",
    "    t_w (float): Steel washer thickness.\n",
    "    d_w (float): Steel washer diameter.\n",
    "\n",
    "    Returns:\n",
    "    float: The effective pull-over diameter (d_p).\n",
    "    \"\"\"\n",
    "    if washer_type == \"independent\":\n",
    "        d_p = min(d_h + 2 * t_w + t1, d_w)\n",
    "    elif washer_type == \"integral\":\n",
    "    # Should not be exceeding 20 mm\n",
    "        d_p = min(d_h, 20)\n",
    "    return d_p\n",
    "\n",
    "def calculate_nominal_capacity_pull_out_5_4_3_2(d_h, d_f, t_w, d_w, t1, t2, f_u1, f_u2, washer_type):\n",
    "    \"\"\"\n",
    "    Calculate the nominal pull-out capacity (N_uo) and pull-through capacity (N_w)\n",
    "    based on clauses 5.4.3.2(2) and 5.4.3.2(3) of the standard.\n",
    "\n",
    "    Parameters:\n",
    "    t (float): Thickness of the connected sheet.\n",
    "    d_p (float): Effective pull-over diameter.\n",
    "    f_u (float): Ultimate tensile strength of the material.\n",
    "\n",
    "    Returns:\n",
    "    float, float: The nominal pull-out capacity (N_uo), pull-through capacity (N_w).\n",
    "    \"\"\"\n",
    "    \n",
    "    d_p = calculate_effective_pull_over_diameter_5_4_3_2(d_h, t_w, d_w, t1, washer_type)\n",
    "    # Nominal pull-out capacity for t > 0.9 mm\n",
    "    N_uo = 0.85 * t2 * d_f * f_u2\n",
    "    # Nominal pull-through capacity\n",
    "    N_ov = 1.5 * t1 * d_p * f_u1\n",
    "\n",
    "    Nt = min(N_uo, N_ov)\n",
    "    phi = 0.5\n",
    "    \n",
    "    pull_out_capacity = phi * Nt\n",
    "    return pull_out_capacity\n"
   ]
  },
  {
   "cell_type": "code",
   "execution_count": 43,
   "metadata": {},
   "outputs": [
    {
     "data": {
      "text/plain": [
       "4462.5"
      ]
     },
     "execution_count": 43,
     "metadata": {},
     "output_type": "execute_result"
    }
   ],
   "source": [
    "# Example usage of the functions:\n",
    "\n",
    "# Parameters (example values)\n",
    "d_h = 10  # mm, screw head diameter or hex washer head integral washer diameter\n",
    "t_w = 1  # mm, steel washer thickness\n",
    "d_w = 20  # mm, steel washer diameter\n",
    "t = 1.5  # mm, thickness of the connected sheet\n",
    "f_u = 450  # MPa, ultimate tensile strength of the material\n",
    "\n",
    "# Calculate the effective pull-over diameter\n",
    "\n",
    "# Calculate nominal capacities\n",
    "N_capacity = calculate_nominal_capacity_pull_out_5_4_3_2(d_h, d_f, t_w, d_w, t1, t2, f_u1, f_u2, \"independent\")\n",
    "\n",
    "N_capacity"
   ]
  },
  {
   "cell_type": "markdown",
   "metadata": {},
   "source": [
    "## Section 7: Direct Strength Method"
   ]
  },
  {
   "cell_type": "markdown",
   "metadata": {},
   "source": [
    "### Calculation of Compression"
   ]
  },
  {
   "cell_type": "markdown",
   "metadata": {},
   "source": [
    "#### Appendix D"
   ]
  },
  {
   "cell_type": "code",
   "execution_count": 44,
   "metadata": {},
   "outputs": [],
   "source": [
    "### Global Buckling\n",
    "\n",
    "\n",
    "def foc_without_holes_D1_1_1_2(grid_name, le_x, le_y, le_z):\n",
    "    \"\"\"\n",
    "    D1.1.1.1 Section not subject to torsional or flexural-torsional buckling:\n",
    "\n",
    "    le = effective lenght of member\n",
    "    r = raduis of gyration of the full, unreduced cross-section\n",
    "\n",
    "    \"\"\"\n",
    "    E = section_database.loc[\n",
    "        section_database[\"Section Name\"] == grid_name, \"E (MPa)\"\n",
    "    ].values[0]\n",
    "    G = section_database.loc[\n",
    "        section_database[\"Section Name\"] == grid_name, \"G (MPa)\"\n",
    "    ].values[0]\n",
    "    J = section_database.loc[\n",
    "        section_database[\"Section Name\"] == grid_name, \"Torsion Const J (mm4)\"\n",
    "    ].values[0]    \n",
    "    r_x = section_database.loc[\n",
    "        section_database[\"Section Name\"] == grid_name, \"Radi of Gyration rx (mm)\"\n",
    "    ].values[0]\n",
    "    r_y = section_database.loc[\n",
    "        section_database[\"Section Name\"] == grid_name, \"Radi of Gyration ry (mm)\"\n",
    "    ].values[0]\n",
    "    x_o = section_database.loc[\n",
    "        section_database[\"Section Name\"] == grid_name, \"x0_shear (mm)\"\n",
    "    ].values[0]\n",
    "    y_o = section_database.loc[\n",
    "        section_database[\"Section Name\"] == grid_name, \"y0_shear (mm)\"\n",
    "    ].values[0]\n",
    "    Iw = section_database.loc[\n",
    "        section_database[\"Section Name\"] == grid_name, \"Warping Const Iw (mm4)\"\n",
    "    ].values[0]\n",
    "\n",
    "    Ag = section_database.loc[\n",
    "        section_database[\"Section Name\"] == grid_name, \"Area (mm2)\"\n",
    "    ].values[0]\n",
    "    \n",
    "    \n",
    "    ro1 = np.sqrt(r_x**2 + r_y**2 + x_o**2 + y_o**2)\n",
    "    beta = 1 - (x_o / ro1) ** 2\n",
    "    # Elastic buckling stress in an axially loaded compression member for flexural buckling about the x-axis\n",
    "    fox = (np.pi**2 * E) / ((le_x / r_x) ** 2)\n",
    "    # Elastic buckling stress in an axially loaded compression member for flexural buckling about the y-axis\n",
    "    foy = (np.pi**2 * E) / ((le_y / r_y) ** 2)\n",
    "    # Elastic buckling stress in an axially loaded compression member for torsional buckling\n",
    "    # foz = (G * J / Ag * ro1**2) * (1 + (np.pi**2 * E * Iw) / (G * J * le_z**2))\n",
    "    foz = ((G * J) / (Ag * ro1**2)) * (1 + (np.pi**2 * E * Iw) / (G * J * le_z**2))\n",
    "    # foxz = (1 / 2 * beta) * (\n",
    "    #     (fox + foy) - np.sqrt((fox - foz) ** 2 - 4 * beta * foz * fox)\n",
    "    # )\n",
    "    foxz = (1 / (2 * beta)) * (\n",
    "        (fox + foz) - (np.sqrt((fox + foz) ** 2 - (4 * beta * fox * foz)))\n",
    "    )\n",
    "    foc = min(foxz, foy)\n",
    "\n",
    "    return fox, foy, foz, foxz, foc\n",
    "\n",
    "\n",
    "def weighted_avg_cross_sectional_properties_table_D1_1_2_1(grid_name, Lg):\n",
    "    # (\n",
    "    #     E,\n",
    "    #     G,\n",
    "    #     r_x,\n",
    "    #     r_y,\n",
    "    #     x_o_g,\n",
    "    #     y_o_g,\n",
    "    #     J,\n",
    "    #     Ig,\n",
    "    #     A_g,\n",
    "    #     A_net,\n",
    "    #     L_net,\n",
    "    #     x_o_net,\n",
    "    #     y_o_net,\n",
    "    #     Ixx_g,\n",
    "    #     Iyy_g,\n",
    "    #     Ixx_net,\n",
    "    #     Iyy_net,\n",
    "    #     J_net,\n",
    "    # ) = initial_properties(grid_name)\n",
    "\n",
    "    x_o_g = section_database.loc[\n",
    "        section_database[\"Section Name\"] == grid_name, \"x0_shear (mm)\"\n",
    "    ].values[0]\n",
    "    y_o_g = section_database.loc[\n",
    "        section_database[\"Section Name\"] == grid_name, \"y0_shear (mm)\"\n",
    "    ].values[0]\n",
    "    \n",
    "    A_g = section_database.loc[\n",
    "        section_database[\"Section Name\"] == grid_name, \"Area (mm2)\"\n",
    "    ].values[0]\n",
    "    \n",
    "    Ixx_g = section_database.loc[\n",
    "        section_database[\"Section Name\"] == grid_name, \"Ixx (mm4)\"\n",
    "    ].values[0]\n",
    "\n",
    "    Iyy_g = section_database.loc[\n",
    "        section_database[\"Section Name\"] == grid_name, \"Iyy (mm4)\"\n",
    "    ].values[0]\n",
    "    A_net = section_database.loc[\n",
    "        section_database[\"Section Name\"] == grid_name, \"Area Net (mm2)\"\n",
    "    ].values[0]\n",
    "\n",
    "    L_net = section_database.loc[\n",
    "        section_database[\"Section Name\"] == grid_name, \"Length Net x (mm)\"\n",
    "    ].values[0]\n",
    "\n",
    "    x_o_net = section_database.loc[\n",
    "        section_database[\"Section Name\"] == grid_name, \"x0_shear_net (mm)\"\n",
    "    ].values[0]\n",
    "\n",
    "    y_o_net = section_database.loc[\n",
    "        section_database[\"Section Name\"] == grid_name, \"y0_shear_net (mm)\"\n",
    "    ].values[0]\n",
    "\n",
    "    Ixx_net = section_database.loc[\n",
    "        section_database[\"Section Name\"] == grid_name,\n",
    "        \"Moment of Inertia Ix with Hole (mm4)\",\n",
    "    ].values[0]\n",
    "\n",
    "    Iyy_net = section_database.loc[\n",
    "        section_database[\"Section Name\"] == grid_name,\n",
    "        \"Moment of Inertia Iy with Hole (mm4)\",\n",
    "    ].values[0]\n",
    "\n",
    "    J_net = section_database.loc[\n",
    "        section_database[\"Section Name\"] == grid_name, \"Torsion Const with Hole (mm4)\"\n",
    "    ].values[0]\n",
    "    \"\"\"\n",
    "    Calculate the weighted average of the cross-sectional properties of the member.\n",
    "\n",
    "    Parameters:\n",
    "    \"\"\"\n",
    "\n",
    "    A_avg = (A_g * Lg + A_net * L_net) / (Lg + L_net)\n",
    "    Ix_avg = (Ixx_g * Lg + Ixx_net * L_net) / (Lg + L_net)\n",
    "    Iy_avg = (Iyy_g * Lg + Iyy_net * L_net) / (Lg + L_net)\n",
    "    J_avg = (J_net * L_net) / (L_net)\n",
    "    ro1_avg = np.sqrt(x_o_avg**2 + y_o_avg**2 + (Ix_avg + Iy_avg) / A_avg)\n",
    "    x_o_avg = ((x_o_g * Lg) + (x_o_net * L_net)) / L_net\n",
    "    y_o_avg = ((y_o_g * Lg) + (y_o_net * L_net)) / L_net\n",
    "\n",
    "    return A_avg, Ix_avg, Iy_avg, J_avg, ro1_avg, x_o_avg, y_o_avg\n",
    "\n",
    "\n",
    "def foc_with_holes_D1_1_2_1(\n",
    "    r_x_avg,\n",
    "    r_y_avg,\n",
    "    x_o_avg,\n",
    "    y_o_avg,\n",
    "    le_x,\n",
    "    le_y,\n",
    "    le_z,\n",
    "    E,\n",
    "    Ag,\n",
    "    Ix_avg,\n",
    "    Iy_avg,\n",
    "    J_avg,\n",
    "    Iw_net,\n",
    "    G,\n",
    "):\n",
    "    ro1_avg = np.sqrt(r_x_avg**2 + r_y_avg**2 + x_o_avg**2 + y_o_avg**2)\n",
    "    beta = 1 - (x_o_avg / ro1_avg) ** 2\n",
    "    # Elastic buckling stress in an axially loaded compression member for flexural buckling about the x-axis\n",
    "    fox = (np.pi**2 * E * Ix_avg) / (Ag * le_x**2)\n",
    "    # Elastic buckling stress in an axially loaded compression member for flexural buckling about the y-axis\n",
    "    foy = (np.pi**2 * E * Iy_avg) / (Ag * le_y**2)\n",
    "    # Elastic buckling stress in an axially loaded compression member for torsional buckling\n",
    "    # foz = (G * J / Ag * ro1**2) * (1 + (np.pi**2 * E * Iw) / (G * J * le_z**2))\n",
    "    foz = ((G * J_avg) / (Ag * ro1_avg**2)) * (\n",
    "        1 + (np.pi**2 * E * Iw_net) / (G * J_avg * le_z**2)\n",
    "    )\n",
    "    # foxz = (1 / 2 * beta) * (\n",
    "    #     (fox + foy) - np.sqrt((fox - foz) ** 2 - 4 * beta * foz * fox)\n",
    "    # )\n",
    "    foxz = (1 / (2 * beta)) * (\n",
    "        (fox + foz) - (np.sqrt((fox + foz) ** 2 - (4 * beta * fox * foz)))\n",
    "    )\n",
    "    foc = min(foxz, foy)\n",
    "\n",
    "    return fox, foy, foz, foxz, foc"
   ]
  },
  {
   "cell_type": "markdown",
   "metadata": {},
   "source": [
    "#### Global Buckling Calculation"
   ]
  },
  {
   "cell_type": "code",
   "execution_count": 45,
   "metadata": {},
   "outputs": [],
   "source": [
    "\n",
    "def compression_global_buckling_without_holes_7_2_1_2_1(Noc, Ny):\n",
    "    \"\"\"\n",
    "    The nominal member capacity of a member in compression (Nce) for flexural,\n",
    "    torsional or flexural-torsional buckling shall be calculated as follows:\n",
    "\n",
    "    \"\"\"\n",
    "    λc = (Ny / Noc) ** 0.5\n",
    "\n",
    "    if λc <= 1.5:\n",
    "        Nce = (0.658 ** (λc**2)) * Ny\n",
    "    else:\n",
    "        Nce = (0.877 / (λc**2)) * Ny\n",
    "\n",
    "    return Nce\n",
    "\n",
    "\n",
    "def compression_global_buckling_with_holes_7_2_1_2_2(Noc, Ny):\n",
    "    \"\"\"\n",
    "    The nominal member capacity of a member in compression (Nce) for flexural,\n",
    "    torsional or flexural-torsional buckling of compression members with holes\n",
    "    shall be calculated in accordance with Clause 7_2_1_2_1 except that foc shall be determined including the influence of holes.\n",
    "\n",
    "    \"\"\"\n",
    "    λc = (Ny / Noc) ** 0.5\n",
    "\n",
    "    if λc <= 1.5:\n",
    "        Nce = (0.658 ** (λc**2)) * Ny\n",
    "    else:\n",
    "        Nce = (0.877 / (λc**2)) * Ny\n",
    "\n",
    "    return Nce"
   ]
  },
  {
   "cell_type": "code",
   "execution_count": 46,
   "metadata": {},
   "outputs": [
    {
     "data": {
      "text/plain": [
       "2911.3188636973036"
      ]
     },
     "execution_count": 46,
     "metadata": {},
     "output_type": "execute_result"
    }
   ],
   "source": [
    "fy = section_database.loc[section_database['Section Name'] == grid_name, \"Fy (MPa)\"].values[0]\n",
    "Ag = section_database.loc[section_database['Section Name'] == grid_name, \"Area (mm2)\"].values[0]\n",
    "# effective length\n",
    "le = 600\n",
    "le_x = le\n",
    "le_y = le\n",
    "le_z = le\n",
    "Ny = Ag * fy\n",
    "fox, foy, foz, foxz, foc = foc_without_holes_D1_1_1_2(grid_name, le_x, le_y, le_z)\n",
    "Noc = foc * Ag\n",
    "Nce = compression_global_buckling_without_holes_7_2_1_2_1(Noc, Ny) \n",
    "Nce    \n"
   ]
  },
  {
   "cell_type": "markdown",
   "metadata": {},
   "source": [
    "#### Local Buckling Calculation"
   ]
  },
  {
   "cell_type": "code",
   "execution_count": 47,
   "metadata": {},
   "outputs": [],
   "source": [
    "def compression_local_buckling_without_holes_7_2_1_3_1(Nce, Nol):\n",
    "    \"\"\"\n",
    "    Calculate the nominal member capacity (Nc) for local buckling.\n",
    "\n",
    "    Parameters:\n",
    "    float\n",
    "        Nominal member capacity in compression for local buckling (N or kips)\n",
    "    \"\"\"\n",
    "    λl = (Nce / Nol) ** 0.5\n",
    "\n",
    "    if λl <= 0.776:\n",
    "        Ncl = Nce\n",
    "    else:\n",
    "        Ncl = Nce * ((1 - 0.15 * ((Nol / Nce) ** 0.4)) * ((Nol / Nce) ** 0.4))\n",
    "    return Ncl\n",
    "\n",
    "\n",
    "def compression_local_buckling_with_holes_7_2_1_3_2(Nce, Nol, Ny_net):\n",
    "    \"\"\"\n",
    "    Calculate the nominal member capacity (Nc) for local buckling.\n",
    "\n",
    "    float\n",
    "        Nominal member capacity in compression for local buckling (N or kips)\n",
    "    \"\"\"\n",
    "    λl = (Nce / Nol) ** 0.5\n",
    "\n",
    "    if λl <= 0.776:\n",
    "        Ncl = min(Nce, Ny_net)\n",
    "    else:\n",
    "        Ncl = min(\n",
    "            Nce * ((1 - 0.15 * ((Nol / Nce) ** 0.4)) * ((Nol / Nce) ** 0.4)), Ny_net\n",
    "        )\n",
    "    return Ncl\n"
   ]
  },
  {
   "cell_type": "code",
   "execution_count": 48,
   "metadata": {},
   "outputs": [
    {
     "data": {
      "text/plain": [
       "2911.3188636973036"
      ]
     },
     "execution_count": 48,
     "metadata": {},
     "output_type": "execute_result"
    }
   ],
   "source": [
    "fol = section_database.loc[section_database['Section Name'] == grid_name, \"Local-factor-x-N\"].values[0]\n",
    "Nol = fol * Ny\n",
    "Ncl = compression_local_buckling_without_holes_7_2_1_3_1(Nce, Nol)\n",
    "Ncl"
   ]
  },
  {
   "cell_type": "markdown",
   "metadata": {},
   "source": [
    "#### Distortional Buckling Calculation"
   ]
  },
  {
   "cell_type": "code",
   "execution_count": 49,
   "metadata": {},
   "outputs": [],
   "source": [
    "def compression_distorsional_buckling_without_holes_7_2_1_4_1(Ny, Nod):\n",
    "    λd = (Ny / Nod) ** 0.5\n",
    "    if λd <= 0.561:\n",
    "        Ncd = Ny\n",
    "    else:\n",
    "        Ncd = (1 - 0.25 * (Nod / Ny) ** 0.6) * ((Nod / Ny) ** 0.6) * Ny\n",
    "\n",
    "    return Ncd\n",
    "\n",
    "\n",
    "def compression_distorsional_buckling_with_holes_7_2_1_4_2(\n",
    "    Ny, Nod, Ny_net\n",
    "):\n",
    "    λd = (Ny / Nod) ** 0.5\n",
    "    λd1 = 0.561 * (Ny_net / Ny)\n",
    "    λd2 = 0.561 * (14 * ((Ny / Ny_net) ** 0.4) - 13)\n",
    "    Nd2 = (1 - 0.25 * (1 / λd2) ** 1.2) * ((1 / λd2) ** 1.2) * Ny_net\n",
    "\n",
    "    if λd <= λd1:\n",
    "        Ncd = Ny_net\n",
    "    else:\n",
    "        Ncd = Ny_net - ((Ny_net - Nd2) / (λd2 - λd1)) * (λd - λd1)\n",
    "\n",
    "    return Ncd"
   ]
  },
  {
   "cell_type": "code",
   "execution_count": 50,
   "metadata": {},
   "outputs": [
    {
     "data": {
      "text/plain": [
       "7902.243305134533"
      ]
     },
     "execution_count": 50,
     "metadata": {},
     "output_type": "execute_result"
    }
   ],
   "source": [
    "fod = section_database.loc[section_database['Section Name'] == grid_name, \"Dist-factor-x-N\"].values[0]\n",
    "Nod = fod * Ny\n",
    "Ncd = compression_distorsional_buckling_without_holes_7_2_1_4_1(Ny, Nod)\n",
    "Ncd"
   ]
  },
  {
   "cell_type": "markdown",
   "metadata": {},
   "source": [
    "#### Compression Capacity Calculation"
   ]
  },
  {
   "cell_type": "code",
   "execution_count": 51,
   "metadata": {},
   "outputs": [],
   "source": [
    "def compression_capacity_7_2_1_1(Ncd, Ncl, Nce):\n",
    "    \"\"\"\n",
    "    Calculate the compression capacity of the member.\n",
    "\n",
    "    Parameters:\n",
    "    Ncd : float\n",
    "        Nominal member capacity in compression for distortional buckling (N or kips)\n",
    "    Ncl : float\n",
    "        Nominal member capacity in compression for local buckling (N or kips)\n",
    "    Nce : float\n",
    "        Nominal member capacity in compression for flexural, torsional or flexural-torsional buckling (N or kips)\n",
    "\n",
    "    Returns:\n",
    "    float\n",
    "        Compression capacity of the member (N or kips)\n",
    "    \"\"\"\n",
    "    Nc = min(Ncd, Ncl, Nce)\n",
    "    return Nc"
   ]
  },
  {
   "cell_type": "code",
   "execution_count": 52,
   "metadata": {},
   "outputs": [],
   "source": [
    "Nc = compression_capacity_7_2_1_1(Ncd, Ncl, Nce)\n"
   ]
  },
  {
   "cell_type": "markdown",
   "metadata": {},
   "source": [
    "### Bending Capacity"
   ]
  },
  {
   "cell_type": "markdown",
   "metadata": {},
   "source": [
    "#### Appendix D, E"
   ]
  },
  {
   "cell_type": "code",
   "execution_count": 53,
   "metadata": {},
   "outputs": [],
   "source": [
    "def calc_cb_D_2_1_1_2(fy, le):\n",
    "    M_max = fy * le**2 / 8\n",
    "    M3 = 7 * fy * le**2 / 128\n",
    "    M4 = 3 * fy * le**2 / 32\n",
    "    M5 = 15 * fy * le**2 / 128\n",
    "    cb = 12.5 * M_max / (2.5 * M_max + 3 * M3 + 4 * M4 + 3 * M5)\n",
    "\n",
    "    return cb\n",
    "\n",
    "\n",
    "def calc_Beta_E2(grid_name):\n",
    "    t = section_database.loc[section_database['Section Name'] == grid_name, \"t (mm)\"].values[0]\n",
    "    xc = section_database.loc[section_database['Section Name'] == grid_name, \"xc (mm)\"].values[0]\n",
    "    a = section_database.loc[section_database['Section Name'] == grid_name, \"a (mm)\"].values[0]\n",
    "    b = section_database.loc[section_database['Section Name'] == grid_name, \"b (mm)\"].values[0]\n",
    "    c = section_database.loc[section_database['Section Name'] == grid_name, \"c (mm)\"].values[0]\n",
    "    Iy = section_database.loc[section_database['Section Name'] == grid_name, \"Iyy (mm4)\"].values[0]\n",
    "    x_o = section_database.loc[section_database['Section Name'] == grid_name, \"x0_shear (mm)\"].values[0]\n",
    "    lip_type = section_database.loc[section_database['Section Name'] == grid_name, \"Lip type\"].values[0]\n",
    "\n",
    "    beta_w = ((1 * t * xc * a**3) / 12) + t * (xc**3) * a\n",
    "    beta_f = 0.5 * t * ((b + xc) ** 4 - xc**4) + (\n",
    "        0.25 * a**2 * t * ((b + xc) ** 2 - xc**2)\n",
    "    )\n",
    "    if lip_type == \"c_shaped\":\n",
    "        beta_l = 0.0\n",
    "    elif lip_type == \"outer_lipped\":\n",
    "        beta_l = (2 * c * t * (xc + b) ** 3) + (\n",
    "            2 / 3 * t * (xc + b) * ((a / 2 + c) ** 3 - (a / 2) ** 3)\n",
    "        )\n",
    "    else:\n",
    "        beta_l = (2 * c * t * (xc + b) ** 3) + (\n",
    "            2 / 3 * t * (xc + b) * ((a / 2) ** 3 - (a / 2 - c) ** 3)\n",
    "        )\n",
    "\n",
    "    beta_y = (beta_w + beta_f + beta_l / Iy) - 2 * x_o\n",
    "\n",
    "    return beta_y\n",
    "\n",
    "\n",
    "def calc_Mo_D_2_1_1_2_a(grid_name, cb, foy, foz):\n",
    "    \n",
    "    x_o = section_database.loc[section_database['Section Name'] == grid_name, \"x0_shear (mm)\"].values[0]\n",
    "    y_o = section_database.loc[section_database['Section Name'] == grid_name, \"x0_shear (mm)\"].values[0]\n",
    "    rox = section_database.loc[section_database['Section Name'] == grid_name, \"Radi of Gyration rx (mm)\"].values[0]\n",
    "    roy = section_database.loc[section_database['Section Name'] == grid_name, \"Radi of Gyration ry (mm)\"].values[0]\n",
    "    ro1 = np.sqrt(rox**2 + roy**2 + x_o**2 + y_o**2)\n",
    "    Ag = section_database.loc[section_database['Section Name'] == grid_name, \"Area (mm2)\"].values[0]\n",
    "    \n",
    "    \n",
    "\n",
    "    Mo = cb * Ag * ro1 * (foy * foz) ** 0.5\n",
    "\n",
    "    return Mo\n",
    "\n",
    "\n",
    "def calc_Mo_D_2_1_1_2_b(grid_name, beta_y, fox, foz, lips_tension):\n",
    "    x_o = section_database.loc[section_database['Section Name'] == grid_name, \"x0_shear (mm)\"].values[0]\n",
    "    y_o = section_database.loc[section_database['Section Name'] == grid_name, \"x0_shear (mm)\"].values[0]\n",
    "    rox = section_database.loc[section_database['Section Name'] == grid_name, \"Radi of Gyration rx (mm)\"].values[0]\n",
    "    roy = section_database.loc[section_database['Section Name'] == grid_name, \"Radi of Gyration ry (mm)\"].values[0]\n",
    "    ro1 = np.sqrt(rox**2 + roy**2 + x_o**2 + y_o**2)\n",
    "    Ag = section_database.loc[section_database['Section Name'] == grid_name, \"Area (mm2)\"].values[0]\n",
    "    \n",
    "    ctf = 1.0  # if the bending moment at any point within an unbraced length is larger than that at both ends of this length, Ctf shall be taken as unity\n",
    "\n",
    "    if lips_tension == \"Yes\":\n",
    "        cs = 1.0\n",
    "    else:\n",
    "        cs = -1.0\n",
    "\n",
    "    Mo = (\n",
    "        cs\n",
    "        * Ag\n",
    "        * fox\n",
    "        * ((beta_y / 2) + cs * ((beta_y / 2) ** 2 + (ro1**2 * foz / fox)) ** 0.5)\n",
    "    ) / ctf\n",
    "\n",
    "    return Mo"
   ]
  },
  {
   "cell_type": "markdown",
   "metadata": {},
   "source": [
    "#### Global Buckling"
   ]
  },
  {
   "cell_type": "code",
   "execution_count": 54,
   "metadata": {},
   "outputs": [],
   "source": [
    "def bending_global_buckling_without_holes_7_2_2_2_2(My, Mo):\n",
    "    if Mo < 0.56 * My:\n",
    "        Mbe = Mo\n",
    "    elif Mo >= 0.56 * My and Mo <= 2.78 * My:\n",
    "        Mbe = (10 / 9) * My * (1 - (10 * My) / (36 * Mo))\n",
    "    else:\n",
    "        Mbe = My\n",
    "\n",
    "    return Mbe\n",
    "\n",
    "\n",
    "def bending_global_buckling_with_holes_7_2_2_2_3(My, Mo):\n",
    "    if Mo < 0.56 * My:\n",
    "        Mbe = Mo\n",
    "    elif Mo >= 0.56 * My and Mo <= 2.78 * My:\n",
    "        Mbe = (10 / 9) * My * (1 - (10 * My) / (36 * Mo))\n",
    "    else:\n",
    "        Mbe = My\n",
    "\n",
    "    return Mbe"
   ]
  },
  {
   "cell_type": "markdown",
   "metadata": {},
   "source": [
    "### Local Buckling"
   ]
  },
  {
   "cell_type": "code",
   "execution_count": 55,
   "metadata": {},
   "outputs": [],
   "source": [
    "def bending_local_buckling_without_holes_7_2_2_3_2(Mbe, Mol):\n",
    "    \"\"\"\n",
    "\n",
    "    Returns:\n",
    "    float\n",
    "        Nominal member capacity in compression for local buckling (N or kips)\n",
    "    \"\"\"\n",
    "    λl = (Mbe / Mol) ** 0.5\n",
    "\n",
    "    if λl <= 0.776:\n",
    "        Mbl = Mbe\n",
    "    else:\n",
    "        Mbl = Mbe * ((1 - 0.15 * ((Mol / Mbe) ** 0.4)) * ((Mol / Mbe) ** 0.4))\n",
    "    return Mbl\n",
    "\n",
    "\n",
    "def bending_local_buckling_with_holes_7_2_2_3_3(Mbe, Mol, My_net):\n",
    "    λl = (Mbe / Mol) ** 0.5\n",
    "\n",
    "    if λl <= 0.776:\n",
    "        Mbl = min(Mbe, My_net)\n",
    "    else:\n",
    "        Mbl = min(\n",
    "            Mbe * ((1 - 0.15 * ((Mol / Mbe) ** 0.4)) * ((Mol / Mbe) ** 0.4)), My_net\n",
    "        )\n",
    "    return Mbl"
   ]
  },
  {
   "cell_type": "markdown",
   "metadata": {},
   "source": [
    "#### Distortional Buckling"
   ]
  },
  {
   "cell_type": "code",
   "execution_count": 56,
   "metadata": {},
   "outputs": [],
   "source": [
    "def bending_distorsional_buckling_without_holes_7_2_2_4_2(My, Mod):\n",
    "    λd = (My / Mod) ** 0.5\n",
    "    if λd <= 0.673:\n",
    "        Mbd = My\n",
    "    else:\n",
    "        Mbd = (1 - 0.25 * (Mod / My) ** 0.6) * ((Mod / My) ** 0.6) * My\n",
    "\n",
    "    return Mbd\n",
    "\n",
    "\n",
    "def bending_distorsional_buckling_with_holes_7_2_2_4_3(My, Mod, My_net):\n",
    "    λd = (My / Mod) ** 0.5\n",
    "    λd1 = 0.673 * (My_net / My) ** 3\n",
    "    λd2 = 0.673 * (1.7 * ((My / My_net) ** 2.7) - 0.7)\n",
    "    Md2 = (1 - 0.22 * (1 / λd2)) * ((1 / λd2)) * My\n",
    "\n",
    "    if λd <= λd1:\n",
    "        Mbd = My_net\n",
    "    else:\n",
    "        Mbd = My_net - ((My_net - Md2) / (λd2 - λd1)) * (λd - λd1)\n",
    "\n",
    "    return Mbd"
   ]
  },
  {
   "cell_type": "markdown",
   "metadata": {},
   "source": [
    "#### Bending Capacity"
   ]
  },
  {
   "cell_type": "code",
   "execution_count": 57,
   "metadata": {},
   "outputs": [],
   "source": [
    "def bending_capacity_7_2_2_2(Mbd, Mbl, Mbe):\n",
    "    \"\"\"\n",
    "    Calculate the bending capacity of the member.\n",
    "\n",
    "    Parameters:\n",
    "    Mbd : float\n",
    "        Nominal member capacity in compression for distortional buckling (N or kips)\n",
    "    Mbl : float\n",
    "        Nominal member capacity in compression for local buckling (N or kips)\n",
    "    Mbe : float\n",
    "        Nominal member capacity in compression for flexural, torsional or flexural-torsional buckling (N or kips)\n",
    "\n",
    "    Returns:\n",
    "    float\n",
    "        Compression capacity of the member (N or kips)\n",
    "    \"\"\"\n",
    "    Mb = min(Mbd, Mbl, Mbe)\n",
    "    return Mb"
   ]
  },
  {
   "cell_type": "markdown",
   "metadata": {},
   "source": [
    "#### Major axis bending"
   ]
  },
  {
   "cell_type": "markdown",
   "metadata": {},
   "source": [
    "#### Global Buckling"
   ]
  },
  {
   "cell_type": "code",
   "execution_count": 58,
   "metadata": {},
   "outputs": [
    {
     "data": {
      "text/plain": [
       "73980.0"
      ]
     },
     "execution_count": 58,
     "metadata": {},
     "output_type": "execute_result"
    }
   ],
   "source": [
    "cb = calc_cb_D_2_1_1_2(fy, le_x)\n",
    "beta_y = calc_Beta_E2(grid_name)\n",
    "Mo_x = calc_Mo_D_2_1_1_2_a(grid_name, beta_y, fox, foz)\n",
    "Zxx = section_database.loc[section_database['Section Name'] == grid_name, \"Elastic Section Moduli Zxx (mm3)\"].values[0]\n",
    "\n",
    "My_x = fy * Zxx\n",
    "\n",
    "Mbe_x = bending_global_buckling_without_holes_7_2_2_2_2(My_x, Mo_x)\n",
    "Mbe_x"
   ]
  },
  {
   "cell_type": "markdown",
   "metadata": {},
   "source": [
    "#### Local Buckling"
   ]
  },
  {
   "cell_type": "code",
   "execution_count": 59,
   "metadata": {},
   "outputs": [
    {
     "data": {
      "text/plain": [
       "73980.0"
      ]
     },
     "execution_count": 59,
     "metadata": {},
     "output_type": "execute_result"
    }
   ],
   "source": [
    "fol_x = section_database.loc[section_database['Section Name'] == grid_name, \"Local-factor-x-mo\"].values[0]\n",
    "Mol_x = fol_x * My_x\n",
    "\n",
    "Mbl_x = bending_local_buckling_without_holes_7_2_2_3_2(Mbe_x, Mol_x)\n",
    "Mbl_x"
   ]
  },
  {
   "cell_type": "markdown",
   "metadata": {},
   "source": [
    "#### Distortional Buckling"
   ]
  },
  {
   "cell_type": "code",
   "execution_count": 60,
   "metadata": {},
   "outputs": [
    {
     "data": {
      "text/plain": [
       "73980.0"
      ]
     },
     "execution_count": 60,
     "metadata": {},
     "output_type": "execute_result"
    }
   ],
   "source": [
    "fod_x = section_database.loc[section_database['Section Name'] == grid_name, \"Dist-factor-x-mo\"].values[0]\n",
    "Mod_x = fod_x * My_x\n",
    "Mbd_x = bending_distorsional_buckling_without_holes_7_2_2_4_2(My_x, Mod_x)\n",
    "Mbd_x\n"
   ]
  },
  {
   "cell_type": "markdown",
   "metadata": {},
   "source": [
    "#### Bending Capacity"
   ]
  },
  {
   "cell_type": "code",
   "execution_count": 61,
   "metadata": {},
   "outputs": [
    {
     "data": {
      "text/plain": [
       "73980.0"
      ]
     },
     "execution_count": 61,
     "metadata": {},
     "output_type": "execute_result"
    }
   ],
   "source": [
    "Mb_x = min(Mbe_x, Mbl_x, Mbd_x)\n",
    "Mb_x"
   ]
  },
  {
   "cell_type": "markdown",
   "metadata": {},
   "source": [
    "#### Minor axis"
   ]
  },
  {
   "cell_type": "markdown",
   "metadata": {},
   "source": [
    "#### Lips in tension"
   ]
  },
  {
   "cell_type": "markdown",
   "metadata": {},
   "source": [
    "#### Global Buckling"
   ]
  },
  {
   "cell_type": "code",
   "execution_count": 62,
   "metadata": {},
   "outputs": [
    {
     "data": {
      "text/plain": [
       "68040.0"
      ]
     },
     "execution_count": 62,
     "metadata": {},
     "output_type": "execute_result"
    }
   ],
   "source": [
    "Mo_y_t = calc_Mo_D_2_1_1_2_b(grid_name, beta_y, fox, foz, lips_tension=\"Yes\")\n",
    "Zyy = section_database.loc[section_database['Section Name'] == grid_name, \"Elastic Section Moduli Zyy (mm3)\"].values[0]\n",
    "My_y = fy * Zyy\n",
    "\n",
    "Mbe_y_t = bending_global_buckling_without_holes_7_2_2_2_2(My_y, Mo_y_t)\n",
    "Mbe_y_t"
   ]
  },
  {
   "cell_type": "markdown",
   "metadata": {},
   "source": [
    "#### Local Buckling"
   ]
  },
  {
   "cell_type": "code",
   "execution_count": 63,
   "metadata": {},
   "outputs": [
    {
     "data": {
      "text/plain": [
       "68040.0"
      ]
     },
     "execution_count": 63,
     "metadata": {},
     "output_type": "execute_result"
    }
   ],
   "source": [
    "fol_y_t = section_database.loc[section_database['Section Name'] == grid_name, \"Local-factor-y-mo-web-ten\"].values[0]\n",
    "Mol_y_t = fol_y_t * My_y\n",
    "\n",
    "Mbl_y_t = bending_local_buckling_without_holes_7_2_2_3_2(Mbe_y_t, Mol_y_t)\n",
    "Mbl_y_t"
   ]
  },
  {
   "cell_type": "markdown",
   "metadata": {},
   "source": [
    "#### Minor bending moment capacity with tension lip"
   ]
  },
  {
   "cell_type": "code",
   "execution_count": 64,
   "metadata": {},
   "outputs": [
    {
     "data": {
      "text/plain": [
       "0.06804"
      ]
     },
     "execution_count": 64,
     "metadata": {},
     "output_type": "execute_result"
    }
   ],
   "source": [
    "Mb_y_t = min(Mbe_y_t, Mbl_y_t)\n",
    "Mb_y_t/1e6"
   ]
  },
  {
   "cell_type": "markdown",
   "metadata": {},
   "source": [
    "#### Lips in compression"
   ]
  },
  {
   "cell_type": "markdown",
   "metadata": {},
   "source": [
    "#### Global Buckling"
   ]
  },
  {
   "cell_type": "code",
   "execution_count": 65,
   "metadata": {},
   "outputs": [
    {
     "data": {
      "text/plain": [
       "2.071898842154021"
      ]
     },
     "execution_count": 65,
     "metadata": {},
     "output_type": "execute_result"
    }
   ],
   "source": [
    "Mo_y_c = calc_Mo_D_2_1_1_2_b(grid_name, beta_y, fox, foz, lips_tension=\"No\")\n",
    "\n",
    "Mbe_y_c = bending_global_buckling_without_holes_7_2_2_2_2(My_y, Mo_y_c)\n",
    "Mbe_y_c"
   ]
  },
  {
   "cell_type": "markdown",
   "metadata": {},
   "source": [
    "#### Local Buckling"
   ]
  },
  {
   "cell_type": "code",
   "execution_count": 66,
   "metadata": {},
   "outputs": [
    {
     "data": {
      "text/plain": [
       "2.071898842154021"
      ]
     },
     "execution_count": 66,
     "metadata": {},
     "output_type": "execute_result"
    }
   ],
   "source": [
    "fol_y_c = section_database.loc[section_database['Section Name'] == grid_name, \"Local-factor-y-mo-web-comp\"].values[0]\n",
    "Mol_y_c = fol_y_c * My_y\n",
    "\n",
    "Mbl_y_c = bending_local_buckling_without_holes_7_2_2_3_2(Mbe_y_c, Mol_y_c)\n",
    "Mbl_y_c"
   ]
  },
  {
   "cell_type": "markdown",
   "metadata": {},
   "source": [
    "#### Distorsional Buckling"
   ]
  },
  {
   "cell_type": "code",
   "execution_count": 67,
   "metadata": {},
   "outputs": [
    {
     "data": {
      "text/plain": [
       "54224.580548475635"
      ]
     },
     "execution_count": 67,
     "metadata": {},
     "output_type": "execute_result"
    }
   ],
   "source": [
    "fod_y_c = section_database.loc[section_database['Section Name'] == grid_name, \"Dist-factor-y-mo-web-comp\"].values[0]\n",
    "Mod_y_c = fod_y_c * My_y\n",
    "Mbd_y_c = bending_distorsional_buckling_without_holes_7_2_2_4_2(My_y, Mod_y_c)\n",
    "Mbd_y_c"
   ]
  },
  {
   "cell_type": "markdown",
   "metadata": {},
   "source": [
    "#### Minor bending moment capacity with compression lip"
   ]
  },
  {
   "cell_type": "code",
   "execution_count": 68,
   "metadata": {},
   "outputs": [
    {
     "data": {
      "text/plain": [
       "2.071898842154021"
      ]
     },
     "execution_count": 68,
     "metadata": {},
     "output_type": "execute_result"
    }
   ],
   "source": [
    "Mb_y_c = min(Mbe_y_c, Mbl_y_c, Mbd_y_c)\n",
    "Mb_y_c"
   ]
  }
 ],
 "metadata": {
  "kernelspec": {
   "display_name": "base",
   "language": "python",
   "name": "python3"
  },
  "language_info": {
   "codemirror_mode": {
    "name": "ipython",
    "version": 3
   },
   "file_extension": ".py",
   "mimetype": "text/x-python",
   "name": "python",
   "nbconvert_exporter": "python",
   "pygments_lexer": "ipython3",
   "version": "3.9.13"
  }
 },
 "nbformat": 4,
 "nbformat_minor": 2
}
